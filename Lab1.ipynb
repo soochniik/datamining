{
 "cells": [
  {
   "cell_type": "markdown",
   "metadata": {},
   "source": [
    "# Лабораторная работа 1"
   ]
  },
  {
   "cell_type": "markdown",
   "metadata": {},
   "source": [
    "Выполнила студентка группы БВТ2101 Пьянова Анна"
   ]
  },
  {
   "cell_type": "code",
   "execution_count": 1,
   "metadata": {},
   "outputs": [
    {
     "data": {
      "text/html": [
       "<div>\n",
       "<style scoped>\n",
       "    .dataframe tbody tr th:only-of-type {\n",
       "        vertical-align: middle;\n",
       "    }\n",
       "\n",
       "    .dataframe tbody tr th {\n",
       "        vertical-align: top;\n",
       "    }\n",
       "\n",
       "    .dataframe thead th {\n",
       "        text-align: right;\n",
       "    }\n",
       "</style>\n",
       "<table border=\"1\" class=\"dataframe\">\n",
       "  <thead>\n",
       "    <tr style=\"text-align: right;\">\n",
       "      <th></th>\n",
       "      <th>PassengerId</th>\n",
       "      <th>Survived</th>\n",
       "      <th>Pclass</th>\n",
       "      <th>Name</th>\n",
       "      <th>Sex</th>\n",
       "      <th>Age</th>\n",
       "      <th>SibSp</th>\n",
       "      <th>Parch</th>\n",
       "      <th>Ticket</th>\n",
       "      <th>Fare</th>\n",
       "      <th>Cabin</th>\n",
       "      <th>Embarked</th>\n",
       "    </tr>\n",
       "  </thead>\n",
       "  <tbody>\n",
       "    <tr>\n",
       "      <th>0</th>\n",
       "      <td>1</td>\n",
       "      <td>0</td>\n",
       "      <td>3</td>\n",
       "      <td>Braund, Mr. Owen Harris</td>\n",
       "      <td>male</td>\n",
       "      <td>22.0</td>\n",
       "      <td>1</td>\n",
       "      <td>0</td>\n",
       "      <td>A/5 21171</td>\n",
       "      <td>7.2500</td>\n",
       "      <td>NaN</td>\n",
       "      <td>S</td>\n",
       "    </tr>\n",
       "    <tr>\n",
       "      <th>1</th>\n",
       "      <td>2</td>\n",
       "      <td>1</td>\n",
       "      <td>1</td>\n",
       "      <td>Cumings, Mrs. John Bradley (Florence Briggs Th...</td>\n",
       "      <td>female</td>\n",
       "      <td>38.0</td>\n",
       "      <td>1</td>\n",
       "      <td>0</td>\n",
       "      <td>PC 17599</td>\n",
       "      <td>71.2833</td>\n",
       "      <td>C85</td>\n",
       "      <td>C</td>\n",
       "    </tr>\n",
       "    <tr>\n",
       "      <th>2</th>\n",
       "      <td>3</td>\n",
       "      <td>1</td>\n",
       "      <td>3</td>\n",
       "      <td>Heikkinen, Miss. Laina</td>\n",
       "      <td>female</td>\n",
       "      <td>26.0</td>\n",
       "      <td>0</td>\n",
       "      <td>0</td>\n",
       "      <td>STON/O2. 3101282</td>\n",
       "      <td>7.9250</td>\n",
       "      <td>NaN</td>\n",
       "      <td>S</td>\n",
       "    </tr>\n",
       "    <tr>\n",
       "      <th>3</th>\n",
       "      <td>4</td>\n",
       "      <td>1</td>\n",
       "      <td>1</td>\n",
       "      <td>Futrelle, Mrs. Jacques Heath (Lily May Peel)</td>\n",
       "      <td>female</td>\n",
       "      <td>35.0</td>\n",
       "      <td>1</td>\n",
       "      <td>0</td>\n",
       "      <td>113803</td>\n",
       "      <td>53.1000</td>\n",
       "      <td>C123</td>\n",
       "      <td>S</td>\n",
       "    </tr>\n",
       "    <tr>\n",
       "      <th>4</th>\n",
       "      <td>5</td>\n",
       "      <td>0</td>\n",
       "      <td>3</td>\n",
       "      <td>Allen, Mr. William Henry</td>\n",
       "      <td>male</td>\n",
       "      <td>35.0</td>\n",
       "      <td>0</td>\n",
       "      <td>0</td>\n",
       "      <td>373450</td>\n",
       "      <td>8.0500</td>\n",
       "      <td>NaN</td>\n",
       "      <td>S</td>\n",
       "    </tr>\n",
       "  </tbody>\n",
       "</table>\n",
       "</div>"
      ],
      "text/plain": [
       "   PassengerId  Survived  Pclass  \\\n",
       "0            1         0       3   \n",
       "1            2         1       1   \n",
       "2            3         1       3   \n",
       "3            4         1       1   \n",
       "4            5         0       3   \n",
       "\n",
       "                                                Name     Sex   Age  SibSp  \\\n",
       "0                            Braund, Mr. Owen Harris    male  22.0      1   \n",
       "1  Cumings, Mrs. John Bradley (Florence Briggs Th...  female  38.0      1   \n",
       "2                             Heikkinen, Miss. Laina  female  26.0      0   \n",
       "3       Futrelle, Mrs. Jacques Heath (Lily May Peel)  female  35.0      1   \n",
       "4                           Allen, Mr. William Henry    male  35.0      0   \n",
       "\n",
       "   Parch            Ticket     Fare Cabin Embarked  \n",
       "0      0         A/5 21171   7.2500   NaN        S  \n",
       "1      0          PC 17599  71.2833   C85        C  \n",
       "2      0  STON/O2. 3101282   7.9250   NaN        S  \n",
       "3      0            113803  53.1000  C123        S  \n",
       "4      0            373450   8.0500   NaN        S  "
      ]
     },
     "execution_count": 1,
     "metadata": {},
     "output_type": "execute_result"
    }
   ],
   "source": [
    "import pandas as pd\n",
    "\n",
    "data = pd.read_csv('./data/train.csv')\n",
    "data.head()"
   ]
  },
  {
   "cell_type": "markdown",
   "metadata": {},
   "source": [
    "1. Определить, сколько мужчин/женщин находилось на борту."
   ]
  },
  {
   "cell_type": "code",
   "execution_count": 2,
   "metadata": {},
   "outputs": [
    {
     "name": "stdout",
     "output_type": "stream",
     "text": [
      "male      577\n",
      "female    314\n",
      "Name: Sex, dtype: int64\n",
      "Count of male:  577\n",
      "Count of female:  314\n"
     ]
    }
   ],
   "source": [
    "print(data['Sex'].value_counts())\n",
    "\n",
    "print(\"Count of male: \", data[data['Sex']=='male']['Sex'].count())\n",
    "print(\"Count of female: \", data[data['Sex']=='female']['Sex'].count())"
   ]
  },
  {
   "cell_type": "markdown",
   "metadata": {},
   "source": [
    "2. Вывести распределение переменной Pclass (социально-экономический статус) и это же распределение только для мужчин/женщин по отдельности. Сколько было мужчин 2-го класса?"
   ]
  },
  {
   "cell_type": "code",
   "execution_count": 3,
   "metadata": {},
   "outputs": [
    {
     "name": "stdout",
     "output_type": "stream",
     "text": [
      "Count of passengers in each class\n",
      "3    491\n",
      "1    216\n",
      "2    184\n",
      "Name: Pclass, dtype: int64\n",
      "Count of male and female in 1 class\n",
      "male      122\n",
      "female     94\n",
      "Name: Sex, dtype: int64\n",
      "Count of male and female in 2 class\n",
      "male      108\n",
      "female     76\n",
      "Name: Sex, dtype: int64\n",
      "Count of male and female in 3 class\n",
      "male      347\n",
      "female    144\n",
      "Name: Sex, dtype: int64\n"
     ]
    }
   ],
   "source": [
    "print(\"Count of passengers in each class\")\n",
    "print(data['Pclass'].value_counts())\n",
    "print(\"Count of male and female in 1 class\")\n",
    "print(data[data['Pclass']==1]['Sex'].value_counts())\n",
    "print(\"Count of male and female in 2 class\")\n",
    "print(data[data['Pclass']==2]['Sex'].value_counts())\n",
    "print(\"Count of male and female in 3 class\")\n",
    "print(data[data['Pclass']==3]['Sex'].value_counts())"
   ]
  },
  {
   "cell_type": "markdown",
   "metadata": {},
   "source": [
    "3.\tКаковы медиана и стандартное отклонение платежей (Fare)? Округлите до 2 десятичных знаков."
   ]
  },
  {
   "cell_type": "code",
   "execution_count": 4,
   "metadata": {},
   "outputs": [
    {
     "name": "stdout",
     "output_type": "stream",
     "text": [
      "Median of Fare:  14.45\n",
      "Standard deviation of Fare:  49.69\n"
     ]
    }
   ],
   "source": [
    "print(\"Median of Fare: \", round(data['Fare'].median(), 2))\n",
    "print(\"Standard deviation of Fare: \", round(data['Fare'].std(), 2))"
   ]
  },
  {
   "cell_type": "markdown",
   "metadata": {},
   "source": [
    "4.\tПравда ли, что люди моложе 30 лет выживали чаще, чем люди старше 60 лет? Каковы доли выживших в обеих группах?"
   ]
  },
  {
   "cell_type": "code",
   "execution_count": 31,
   "metadata": {},
   "outputs": [
    {
     "name": "stdout",
     "output_type": "stream",
     "text": [
      "Age < 30\n",
      "0    228\n",
      "1    156\n",
      "Name: Survived, dtype: int64\n",
      "Age > 60\n",
      "0    17\n",
      "1     5\n",
      "Name: Survived, dtype: int64\n",
      "Shares of survivors\n",
      "< 30:  0.41\n",
      "> 60:  0.23\n"
     ]
    }
   ],
   "source": [
    "print(\"Age < 30\")\n",
    "print(data[data['Age']<30]['Survived'].value_counts())\n",
    "print(\"Age > 60\")\n",
    "print(data[data['Age']>60]['Survived'].value_counts())\n",
    "print(\"Shares of survivors\")\n",
    "print(\"< 30: \", round(data[(data['Age']<30) & data['Survived']==1]['Age'].count() / data[data['Age']<30]['Age'].count(), 2))\n",
    "print(\"> 60: \", round(data[(data['Age']>60) & data['Survived']==1]['Age'].count() / data[data['Age']>60]['Age'].count(), 2))"
   ]
  },
  {
   "cell_type": "markdown",
   "metadata": {},
   "source": [
    "5.\tПравда ли, что женщины выживали чаще мужчин? Каковы доли выживших в обеих группах?"
   ]
  },
  {
   "cell_type": "code",
   "execution_count": 32,
   "metadata": {},
   "outputs": [
    {
     "name": "stdout",
     "output_type": "stream",
     "text": [
      "Survived of male\n",
      "0    468\n",
      "1    109\n",
      "Name: Survived, dtype: int64\n",
      "Survived of female\n",
      "1    233\n",
      "0     81\n",
      "Name: Survived, dtype: int64\n",
      "Shares of survivors\n",
      "Male:  0.19\n",
      "Female:  0.74\n"
     ]
    }
   ],
   "source": [
    "print(\"Survived of male\")\n",
    "print(data[data['Sex']=='male']['Survived'].value_counts())\n",
    "print(\"Survived of female\")\n",
    "print(data[data['Sex']=='female']['Survived'].value_counts())\n",
    "print(\"Shares of survivors\")\n",
    "print(\"Male: \", round(data[(data['Sex']=='male') & (data['Survived']==1)]['Sex'].count() / data[data['Sex']=='male']['Sex'].count(), 2))\n",
    "print(\"Female: \", round(data[(data['Sex']=='female') & (data['Survived']==1)]['Sex'].count() / data[data['Sex']=='female']['Sex'].count(), 2))"
   ]
  },
  {
   "cell_type": "markdown",
   "metadata": {},
   "source": [
    "6.\tНайдите самое популярное имя среди пассажиров Титаника мужского пола."
   ]
  },
  {
   "cell_type": "code",
   "execution_count": 23,
   "metadata": {},
   "outputs": [
    {
     "data": {
      "text/plain": [
       "William    35\n",
       "John       25\n",
       "George     14\n",
       "Charles    13\n",
       "Thomas     13\n",
       "Name: Name, dtype: int64"
      ]
     },
     "execution_count": 23,
     "metadata": {},
     "output_type": "execute_result"
    }
   ],
   "source": [
    "first_names = data[data['Sex'] == 'male']['Name'].apply(lambda fullName: fullName.split(',')[1].split()[1])\n",
    "first_names.value_counts().head()"
   ]
  },
  {
   "cell_type": "markdown",
   "metadata": {},
   "source": [
    "7.\tСравните графически распределение стоимости билетов и возраста у спасенных и у погибших. Средний возраст погибших выше, верно?"
   ]
  },
  {
   "cell_type": "code",
   "execution_count": 33,
   "metadata": {},
   "outputs": [
    {
     "data": {
      "text/plain": [
       "<matplotlib.legend.Legend at 0x1cd5fe852d0>"
      ]
     },
     "execution_count": 33,
     "metadata": {},
     "output_type": "execute_result"
    },
    {
     "data": {
      "image/png": "[encoded data removed]",
      "text/plain": [
       "<Figure size 640x480 with 1 Axes>"
      ]
     },
     "metadata": {},
     "output_type": "display_data"
    }
   ],
   "source": [
    "from matplotlib import pyplot as plt\n",
    "\n",
    "data[data['Survived'] == 1]['Fare'].hist(color=\"purple\", label='Survived')\n",
    "data[data['Survived'] == 0]['Fare'].hist(color=\"red\", label='Died')\n",
    "plt.title('Ticket fare')\n",
    "plt.xlabel('Pounds')\n",
    "plt.ylabel('Frequency')\n",
    "plt.legend()"
   ]
  },
  {
   "cell_type": "code",
   "execution_count": 27,
   "metadata": {},
   "outputs": [
    {
     "data": {
      "image/png": "[encoded data removed]",
      "text/plain": [
       "<Figure size 640x480 with 1 Axes>"
      ]
     },
     "metadata": {},
     "output_type": "display_data"
    }
   ],
   "source": [
    "data[data['Survived'] == 1]['Age'].hist(color=\"blue\", label='Survived', alpha=.5)\n",
    "data[data['Survived'] == 0]['Age'].hist(color=\"orange\", label='Died', alpha=.5)\n",
    "plt.title('Age')\n",
    "plt.xlabel('Years')\n",
    "plt.ylabel('Frequency')\n",
    "plt.legend();"
   ]
  },
  {
   "cell_type": "code",
   "execution_count": 29,
   "metadata": {},
   "outputs": [
    {
     "data": {
      "text/plain": [
       "<AxesSubplot: xlabel='Survived', ylabel='Age'>"
      ]
     },
     "execution_count": 29,
     "metadata": {},
     "output_type": "execute_result"
    },
    {
     "data": {
      "image/png": "[encoded data removed]",
      "text/plain": [
       "<Figure size 640x480 with 1 Axes>"
      ]
     },
     "metadata": {},
     "output_type": "display_data"
    }
   ],
   "source": [
    "import seaborn as sns\n",
    "\n",
    "sns.boxplot(x='Survived', y='Age', data=data)\n",
    "sns.boxplot(x='Survived', y='Fare', data=data)"
   ]
  },
  {
   "cell_type": "markdown",
   "metadata": {},
   "source": [
    "8.\tКак отличается средний возраст мужчин / женщин в зависимости от класса обслуживания? Выберите верные утверждения: \n",
    "- В среднем мужчины 1-го класса старше 40 лет\n",
    "- В среднем женщины 1-го класса старше 40 лет\n",
    "- Мужчины всех классов в среднем старше женщин того же класса\n",
    "- В среднем люди в 1 классе старше, чем во 2-ом, а те старше представителей 3-го класса"
   ]
  },
  {
   "cell_type": "code",
   "execution_count": 20,
   "metadata": {},
   "outputs": [
    {
     "name": "stdout",
     "output_type": "stream",
     "text": [
      "For 1 class\n",
      "Average age of male:  41.28138613861386\n",
      "Average age of female:  34.61176470588235\n",
      "Average age:  38.233440860215055\n",
      "For 2 class\n",
      "Average age of male:  30.74070707070707\n",
      "Average age of female:  28.722972972972972\n",
      "Average age:  29.87763005780347\n",
      "For 3 class\n",
      "Average age of male:  26.507588932806325\n",
      "Average age of female:  21.75\n",
      "Average age:  25.14061971830986\n"
     ]
    }
   ],
   "source": [
    "print(\"For 1 class\")\n",
    "print(\"Average age of male: \", data[(data['Pclass']==1) & (data['Sex']=='male')]['Age'].mean())\n",
    "print(\"Average age of female: \", data[(data['Pclass']==1) & (data['Sex']=='female')]['Age'].mean())\n",
    "print(\"Average age: \", data[data['Pclass']==1]['Age'].mean())\n",
    "print(\"For 2 class\")\n",
    "print(\"Average age of male: \", data[(data['Pclass']==2) & (data['Sex']=='male')]['Age'].mean())\n",
    "print(\"Average age of female: \", data[(data['Pclass']==2) & (data['Sex']=='female')]['Age'].mean())\n",
    "print(\"Average age: \", data[data['Pclass']==2]['Age'].mean())\n",
    "print(\"For 3 class\")\n",
    "print(\"Average age of male: \", data[(data['Pclass']==3) & (data['Sex']=='male')]['Age'].mean())\n",
    "print(\"Average age of female: \", data[(data['Pclass']==3) & (data['Sex']=='female')]['Age'].mean())\n",
    "print(\"Average age: \", data[data['Pclass']==3]['Age'].mean())"
   ]
  }
 ],
 "metadata": {
  "kernelspec": {
   "display_name": "Python 3",
   "language": "python",
   "name": "python3"
  },
  "language_info": {
   "codemirror_mode": {
    "name": "ipython",
    "version": 3
   },
   "file_extension": ".py",
   "mimetype": "text/x-python",
   "name": "python",
   "nbconvert_exporter": "python",
   "pygments_lexer": "ipython3",
   "version": "3.10.11"
  }
 },
 "nbformat": 4,
 "nbformat_minor": 2
}
